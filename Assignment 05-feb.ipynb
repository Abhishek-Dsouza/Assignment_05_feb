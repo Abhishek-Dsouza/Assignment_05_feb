{
 "cells": [
  {
   "cell_type": "markdown",
   "id": "8a53905d-8734-48ab-8c35-5d5190abf249",
   "metadata": {},
   "source": [
    "# Assignment"
   ]
  },
  {
   "cell_type": "markdown",
   "id": "558171d0-f066-4509-840a-6fd0f72d33a6",
   "metadata": {},
   "source": [
    "### Question 1 :-  Q1. Explain Class and Object with respect to Object-Oriented Programming. Give a suitable example."
   ]
  },
  {
   "cell_type": "markdown",
   "id": "08723ca4-116d-4ab2-8ea1-e4c25a560e88",
   "metadata": {},
   "source": [
    "#### Answer :-\n",
    "#### Class - A class is a blueprint or a template for creating objects. It defines the properties (attributes) and methods (behaviors) that all objects of that class will have. A class can be thought of as a cookie cutter that is used to create identical cookies.\n",
    "\n",
    "#### Object - An object, on the other hand, is an instance of a class. It is a specific realization of the class, with its own set of attribute values. Each object is unique and has its own state and behavior.\n",
    "\n",
    "#### For example, consider a class called \"Person\". This class can have attributes such as \"name\", \"age\", \"gender\", and methods such as \"walk\", \"talk\", \"eat\". We can create multiple objects of this class, each with its own set of attribute values, such as:"
   ]
  },
  {
   "cell_type": "code",
   "execution_count": 4,
   "id": "0a7ceba8-f663-4af9-967b-aa7da4d470e2",
   "metadata": {},
   "outputs": [],
   "source": [
    "class Person:\n",
    "    def __init__(self, name, age, gender):\n",
    "        self.name = name\n",
    "        self.age = age\n",
    "        self.gender = gender\n",
    "        \n",
    "    def return_deetials(self) : \n",
    "        return self.name,self.age ,self.gender"
   ]
  },
  {
   "cell_type": "code",
   "execution_count": 8,
   "id": "8a0d28ec-730c-4cec-a2ee-9d8b5616f26e",
   "metadata": {},
   "outputs": [],
   "source": [
    "abhi=Person(\"Abhishek\",25,\"Male\")"
   ]
  },
  {
   "cell_type": "code",
   "execution_count": 10,
   "id": "8bcbe060-365d-4c7b-888e-d3df8a15d08c",
   "metadata": {},
   "outputs": [
    {
     "data": {
      "text/plain": [
       "'Abhishek'"
      ]
     },
     "execution_count": 10,
     "metadata": {},
     "output_type": "execute_result"
    }
   ],
   "source": [
    "abhi.name"
   ]
  },
  {
   "cell_type": "markdown",
   "id": "5c35b7b5-e25d-41e1-8afd-3b25319cb49b",
   "metadata": {},
   "source": [
    "### Question 2 :-  Name the four pillars of OOPs."
   ]
  },
  {
   "cell_type": "markdown",
   "id": "c6b067be-4b55-4c46-b16a-9136a4cd6475",
   "metadata": {},
   "source": [
    "#### Answer:-\n",
    "#### 1. Encapsulation: Encapsulation is the concept of bundling data and methods that operate on that data within a single unit, such as a class. This helps to hide the complexity of the implementation and makes it easier to modify and maintain the code.\n",
    "\n",
    "#### 2. Abstraction: Abstraction is the process of hiding implementation details while showing only the necessary information to the user. This helps to reduce the complexity of the system and makes it easier to use.\n",
    "\n",
    "#### 3. Inheritance: Inheritance is the process of creating a new class by deriving properties and characteristics from an existing class. This helps to reuse code and create a hierarchy of classes with shared properties and methods.\n",
    "\n",
    "#### 4. Polymorphism: Polymorphism is the ability of an object to take on many forms. In OOP, this means that objects of different classes can be treated as if they were of the same class, as long as they implement the same methods. This helps to write flexible and reusable code."
   ]
  },
  {
   "cell_type": "markdown",
   "id": "00fa385d-203d-4d6f-99f9-3e2318f6543b",
   "metadata": {},
   "source": [
    "### Question 3 :- Explain why the __init__() function is used. Give a suitable example."
   ]
  },
  {
   "cell_type": "markdown",
   "id": "55fab93c-9895-494c-8cd6-44f83e65b895",
   "metadata": {},
   "source": [
    "#### Answer:-  In Python, the __init__() function is a special method that is called when an object is created from a class. The purpose of this function is to initialize the attributes of the object with some default or user-defined values.\n",
    "\n",
    "#### The __init__() function is commonly used in Python classes to set initial values for instance variables. It takes the self parameter, which refers to the instance being created, and any additional parameters that are required to initialize the object.\n",
    "\n",
    "#### Here's an example of how the __init__() function can be used:"
   ]
  },
  {
   "cell_type": "code",
   "execution_count": 13,
   "id": "b047871f-a1a0-4f94-8b7a-82e44fdd1a12",
   "metadata": {},
   "outputs": [],
   "source": [
    "class Car:\n",
    "    def __init__(self, make, model, year):\n",
    "        self.make = make\n",
    "        self.model = model\n",
    "        self.year = year\n",
    "        \n",
    "    def get_info(self):\n",
    "        return \"This is a \" + str(self.year) + \" \" + self.make + \" \" + self.model + \".\"\n"
   ]
  },
  {
   "cell_type": "code",
   "execution_count": 17,
   "id": "41bf73ec-d186-435e-b44a-e417584565c2",
   "metadata": {},
   "outputs": [],
   "source": [
    "alto=Car(\"maruti\",\"lxi\",2010)"
   ]
  },
  {
   "cell_type": "code",
   "execution_count": 18,
   "id": "571f56f8-f749-4b7a-9370-e99dc5f9bf07",
   "metadata": {},
   "outputs": [
    {
     "data": {
      "text/plain": [
       "'maruti'"
      ]
     },
     "execution_count": 18,
     "metadata": {},
     "output_type": "execute_result"
    }
   ],
   "source": [
    "alto.make"
   ]
  },
  {
   "cell_type": "markdown",
   "id": "be2472ec-1f11-48ec-aefc-557e43f38089",
   "metadata": {},
   "source": [
    "### Question 4 :- Why self is used in OOPs?"
   ]
  },
  {
   "cell_type": "markdown",
   "id": "2def0dee-2317-40cd-bbc1-1daeee504480",
   "metadata": {},
   "source": [
    "#### Answer:-\n",
    "#### In Object-Oriented Programming (OOP), self is a special parameter that refers to the instance of a class. It is used to access the attributes and methods of the object.\n",
    "#### self is used as the first parameter in instance methods. When a method is called on an object, the object is automatically passed as the first argument to the method, and self refers to that object. This allows the method to access the attributes and methods of the object.\n",
    "#### self as its first parameter, and the get_info() method also takes self as its first parameter. This allows these methods to access the attributes of the object using the self keyword."
   ]
  },
  {
   "cell_type": "markdown",
   "id": "47c02284-9b7a-4178-b480-1f085e9631be",
   "metadata": {},
   "source": [
    "### Question 5 :- What is inheritance? Give an example for each type of inheritance."
   ]
  },
  {
   "cell_type": "markdown",
   "id": "c239f372-4388-478b-b4bc-6ce15c8f9292",
   "metadata": {},
   "source": [
    "#### Answer:-\n",
    "#### Inheritance is a concept in object-oriented programming where a new class is created from an existing class by inheriting its attributes and methods. The existing class is called the base class or parent class, and the new class is called the derived class or child class.\n",
    "\n",
    "#### Inheritance allows us to reuse code and create a hierarchy of classes with shared properties and methods. There are several types of inheritance in Python:\n",
    "\n",
    "#### 1. Single Inheritance: In single inheritance, a derived class inherits from a single base class.\n",
    "#### Example:\n"
   ]
  },
  {
   "cell_type": "code",
   "execution_count": null,
   "id": "9d176231-5b91-4b34-b18a-cb0571aa5df8",
   "metadata": {},
   "outputs": [],
   "source": [
    "class Animal:\n",
    "    def __init__(self, name, species):\n",
    "        self.name = name\n",
    "        self.species = species\n",
    "\n",
    "class Dog(Animal):\n",
    "    def __init__(self, name, breed):\n",
    "        super().__init__(name, species=\"Dog\")\n",
    "        self.breed = breed\n",
    "\n",
    "my_dog = Dog(\"Fido\", \"Golden Retriever\")\n",
    "print(my_dog.name)\n",
    "print(my_dog.species)\n",
    "print(my_dog.breed)\n"
   ]
  },
  {
   "cell_type": "markdown",
   "id": "10b2cd4a-69a6-486f-885c-d7130a2e61b8",
   "metadata": {},
   "source": [
    "#### 2.Multiple Inheritance: In multiple inheritance, a derived class inherits from two or more base classes.\n",
    "#### Example:"
   ]
  },
  {
   "cell_type": "code",
   "execution_count": null,
   "id": "6acb0dd2-ddeb-4af6-9dd3-d79ff2eab208",
   "metadata": {},
   "outputs": [],
   "source": [
    "class Flyer:\n",
    "    def fly(self):\n",
    "        print(\"Flying...\")\n",
    "\n",
    "class Swimmer:\n",
    "    def swim(self):\n",
    "        print(\"Swimming...\")\n",
    "\n",
    "class Duck(Flyer, Swimmer):\n",
    "    pass\n",
    "\n",
    "my_duck = Duck()\n",
    "my_duck.fly()\n",
    "my_duck.swim()\n"
   ]
  },
  {
   "cell_type": "markdown",
   "id": "b99ae087-1ab9-4299-ba04-e3421b4b1add",
   "metadata": {},
   "source": [
    "#### 3. Multilevel Inheritance: In multilevel inheritance, a derived class inherits from a base class, which itself inherits from another base class.\n",
    "#### Example:"
   ]
  },
  {
   "cell_type": "code",
   "execution_count": null,
   "id": "11bc626a-b8ad-4850-9ec7-724da3381394",
   "metadata": {},
   "outputs": [],
   "source": [
    "class Animal:\n",
    "    def __init__(self, name):\n",
    "        self.name = name\n",
    "\n",
    "class Mammal(Animal):\n",
    "    def feed_young_with_milk(self):\n",
    "        print(\"Feeding young with milk...\")\n",
    "\n",
    "class Dog(Mammal):\n",
    "    def bark(self):\n",
    "        print(\"Barking...\")\n",
    "\n",
    "my_dog = Dog(\"Fido\")\n",
    "print(my_dog.name)\n",
    "my_dog.feed_young_with_milk()\n",
    "my_dog.bark()\n"
   ]
  },
  {
   "cell_type": "markdown",
   "id": "45e09b48-591d-4ee4-8069-8ccd5fdffce0",
   "metadata": {},
   "source": [
    "#### 4. Hierarchical Inheritance: In hierarchical inheritance, multiple derived classes inherit from a single base class."
   ]
  },
  {
   "cell_type": "code",
   "execution_count": null,
   "id": "910e210d-5fc3-48fb-936b-fdac40d38d44",
   "metadata": {},
   "outputs": [],
   "source": [
    "class Animal:\n",
    "    def __init__(self, name):\n",
    "        self.name = name\n",
    "\n",
    "class Cat(Animal):\n",
    "    def meow(self):\n",
    "        print(\"Meowing...\")\n",
    "\n",
    "class Lion(Animal):\n",
    "    def roar(self):\n",
    "        print(\"Roaring...\")\n",
    "\n",
    "my_cat = Cat(\"Whiskers\")\n",
    "my_lion = Lion(\"Simba\")\n",
    "print(my_cat.name)\n",
    "my_cat.meow()\n",
    "print(my_lion.name)\n",
    "my_lion.roar()\n"
   ]
  },
  {
   "cell_type": "code",
   "execution_count": null,
   "id": "e6ffbe34-20b1-48af-bc67-0e2838e7eed3",
   "metadata": {},
   "outputs": [],
   "source": []
  }
 ],
 "metadata": {
  "kernelspec": {
   "display_name": "Python 3 (ipykernel)",
   "language": "python",
   "name": "python3"
  },
  "language_info": {
   "codemirror_mode": {
    "name": "ipython",
    "version": 3
   },
   "file_extension": ".py",
   "mimetype": "text/x-python",
   "name": "python",
   "nbconvert_exporter": "python",
   "pygments_lexer": "ipython3",
   "version": "3.10.8"
  }
 },
 "nbformat": 4,
 "nbformat_minor": 5
}
